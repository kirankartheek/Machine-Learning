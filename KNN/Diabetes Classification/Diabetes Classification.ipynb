{
 "cells": [
  {
   "cell_type": "code",
   "execution_count": 1,
   "metadata": {},
   "outputs": [],
   "source": [
    "import pandas as pd\n",
    "import numpy as np\n",
    "import matplotlib.pyplot as plt"
   ]
  },
  {
   "cell_type": "code",
   "execution_count": 22,
   "metadata": {},
   "outputs": [],
   "source": [
    "plt.style.use('seaborn')"
   ]
  },
  {
   "cell_type": "markdown",
   "metadata": {},
   "source": [
    "# Data Preparation"
   ]
  },
  {
   "cell_type": "code",
   "execution_count": 42,
   "metadata": {},
   "outputs": [
    {
     "name": "stdout",
     "output_type": "stream",
     "text": [
      "(576, 8)\n"
     ]
    }
   ],
   "source": [
    "dfx = pd.read_csv(\"./Training Data/Diabetes_XTrain.csv\")\n",
    "dfy = pd.read_csv(\"./Training Data/Diabetes_YTrain.csv\")\n",
    "x = dfx.values\n",
    "y = dfy.values\n",
    "x_train = x\n",
    "y_train = y.reshape((-1))\n",
    "print(x_train.shape)\n",
    "# print(y_train)"
   ]
  },
  {
   "cell_type": "code",
   "execution_count": 33,
   "metadata": {},
   "outputs": [
    {
     "data": {
      "text/plain": [
       "(array([375.,   0.,   0.,   0.,   0.,   0.,   0.,   0.,   0., 201.]),\n",
       " array([0. , 0.1, 0.2, 0.3, 0.4, 0.5, 0.6, 0.7, 0.8, 0.9, 1. ]),\n",
       " <a list of 10 Patch objects>)"
      ]
     },
     "execution_count": 33,
     "metadata": {},
     "output_type": "execute_result"
    },
    {
     "data": {
      "image/png": "[encoded data removed]",
      "text/plain": [
       "<Figure size 576x396 with 1 Axes>"
      ]
     },
     "metadata": {},
     "output_type": "display_data"
    }
   ],
   "source": [
    "plt.hist(y_train)"
   ]
  },
  {
   "cell_type": "markdown",
   "metadata": {},
   "source": [
    "# `KNN_ALGORITHM`"
   ]
  },
  {
   "cell_type": "code",
   "execution_count": 12,
   "metadata": {},
   "outputs": [],
   "source": [
    "\n",
    "def dist(x1,x2):\n",
    "    return np.sqrt(sum((x1-x2)**2))\n",
    "\n",
    "def knn(X,Y,queryPoint,k=5):\n",
    "    \n",
    "    vals = []\n",
    "    m = X.shape[0]\n",
    "    \n",
    "    for i in range(m):\n",
    "        d = dist(queryPoint,X[i])\n",
    "        vals.append((d,Y[i]))\n",
    "        \n",
    "    \n",
    "    vals = sorted(vals)\n",
    "    # Nearest/First K points\n",
    "    vals = vals[:k]\n",
    "    vals = np.array(vals)                   #convert this to array so as to pass it to unique function\n",
    "    \n",
    "    #print(vals)\n",
    "    \n",
    "    new_vals = np.unique(vals[:,1],return_counts=True)\n",
    "    #print(new_vals)\n",
    "    \n",
    "    index = new_vals[1].argmax()\n",
    "    pred = new_vals[0][index]\n",
    "    \n",
    "    return pred"
   ]
  },
  {
   "cell_type": "code",
   "execution_count": 46,
   "metadata": {},
   "outputs": [
    {
     "name": "stdout",
     "output_type": "stream",
     "text": [
      "(192, 8)\n",
      "(576, 8)\n"
     ]
    }
   ],
   "source": [
    "#loading the test data set\n",
    "dfx_test = pd.read_csv(\"./Testing Data/Diabetes_Xtest.csv\")\n",
    "x_test = dfx_test.values\n",
    "print(x_test.shape)\n",
    "print(x_train.shape)"
   ]
  },
  {
   "cell_type": "code",
   "execution_count": 48,
   "metadata": {},
   "outputs": [
    {
     "name": "stdout",
     "output_type": "stream",
     "text": [
      "1\n"
     ]
    }
   ],
   "source": [
    "#sample example which predicts for x_test[1]\n",
    "pred = knn(x_train,y_train,x_test[1])\n",
    "\n",
    "print(int(pred))"
   ]
  },
  {
   "cell_type": "code",
   "execution_count": 59,
   "metadata": {},
   "outputs": [],
   "source": [
    "pred = []\n",
    "m = x_test.shape[0]\n",
    "for i in range(m):\n",
    "    p = knn(x_train,y_train,x_test[i])\n",
    "    pred.append(p)\n",
    "pred = np.array(pred)\n",
    "#convert the obtained list to CSV FILE\n",
    "test = pd.DataFrame(pred)\n",
    "test.to_csv('prediction.csv', index=False)"
   ]
  },
  {
   "cell_type": "code",
   "execution_count": 60,
   "metadata": {},
   "outputs": [
    {
     "data": {
      "text/plain": [
       "(array([129.,   0.,   0.,   0.,   0.,   0.,   0.,   0.,   0.,  63.]),\n",
       " array([0. , 0.1, 0.2, 0.3, 0.4, 0.5, 0.6, 0.7, 0.8, 0.9, 1. ]),\n",
       " <a list of 10 Patch objects>)"
      ]
     },
     "execution_count": 60,
     "metadata": {},
     "output_type": "execute_result"
    },
    {
     "data": {
      "image/png": "[encoded data removed]",
      "text/plain": [
       "<Figure size 576x396 with 1 Axes>"
      ]
     },
     "metadata": {},
     "output_type": "display_data"
    }
   ],
   "source": [
    "#plotting the histogram denoting the frequency of both classes\n",
    "plt.hist(pred)"
   ]
  },
  {
   "cell_type": "code",
   "execution_count": null,
   "metadata": {},
   "outputs": [],
   "source": []
  }
 ],
 "metadata": {
  "kernelspec": {
   "display_name": "Python 3",
   "language": "python",
   "name": "python3"
  },
  "language_info": {
   "codemirror_mode": {
    "name": "ipython",
    "version": 3
   },
   "file_extension": ".py",
   "mimetype": "text/x-python",
   "name": "python",
   "nbconvert_exporter": "python",
   "pygments_lexer": "ipython3",
   "version": "3.8.3"
  }
 },
 "nbformat": 4,
 "nbformat_minor": 4
}
